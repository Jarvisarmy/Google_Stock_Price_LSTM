{
 "cells": [
  {
   "cell_type": "markdown",
   "id": "6a8b7ced",
   "metadata": {},
   "source": [
    "This project using LTSM Teras to predict the Google Price"
   ]
  },
  {
   "cell_type": "markdown",
   "id": "140a34a0",
   "metadata": {},
   "source": [
    "# SET UP"
   ]
  },
  {
   "cell_type": "code",
   "execution_count": 3,
   "id": "b7eaec15",
   "metadata": {},
   "outputs": [],
   "source": [
    "import numpy as np\n",
    "import pandas as pd\n",
    "import matplotlib.pyplot as plt\n",
    "from tensorflow.keras.models import Sequential\n",
    "from tensorflow.keras.layers import Dense, Dropout,LSTM\n",
    "from sklearn.preprocessing import MinMaxScaler\n",
    "import math\n",
    "from sklearn.metrics import mean_squared_error\n",
    "from kerastuner.engine.hyperparameters import HyperParameters\n",
    "from tensorflow import keras\n",
    "from tensorflow.keras import layers\n",
    "from kerastuner.tuners import RandomSearch"
   ]
  },
  {
   "cell_type": "markdown",
   "id": "e42b1542",
   "metadata": {},
   "source": [
    "# Extract Data\n",
    "\n",
    "kaggle data\n",
    "\n",
    "https://www.kaggle.com/rahulsah06/gooogle-stock-price"
   ]
  },
  {
   "cell_type": "code",
   "execution_count": 61,
   "id": "d4c32e88",
   "metadata": {},
   "outputs": [
    {
     "data": {
      "text/html": [
       "<div>\n",
       "<style scoped>\n",
       "    .dataframe tbody tr th:only-of-type {\n",
       "        vertical-align: middle;\n",
       "    }\n",
       "\n",
       "    .dataframe tbody tr th {\n",
       "        vertical-align: top;\n",
       "    }\n",
       "\n",
       "    .dataframe thead th {\n",
       "        text-align: right;\n",
       "    }\n",
       "</style>\n",
       "<table border=\"1\" class=\"dataframe\">\n",
       "  <thead>\n",
       "    <tr style=\"text-align: right;\">\n",
       "      <th></th>\n",
       "      <th>Open</th>\n",
       "      <th>High</th>\n",
       "      <th>Low</th>\n",
       "      <th>Close</th>\n",
       "      <th>Volume</th>\n",
       "    </tr>\n",
       "    <tr>\n",
       "      <th>Date</th>\n",
       "      <th></th>\n",
       "      <th></th>\n",
       "      <th></th>\n",
       "      <th></th>\n",
       "      <th></th>\n",
       "    </tr>\n",
       "  </thead>\n",
       "  <tbody>\n",
       "    <tr>\n",
       "      <th>2012-01-03</th>\n",
       "      <td>325.25</td>\n",
       "      <td>332.83</td>\n",
       "      <td>324.97</td>\n",
       "      <td>663.59</td>\n",
       "      <td>7,380,500</td>\n",
       "    </tr>\n",
       "    <tr>\n",
       "      <th>2012-01-04</th>\n",
       "      <td>331.27</td>\n",
       "      <td>333.87</td>\n",
       "      <td>329.08</td>\n",
       "      <td>666.45</td>\n",
       "      <td>5,749,400</td>\n",
       "    </tr>\n",
       "    <tr>\n",
       "      <th>2012-01-05</th>\n",
       "      <td>329.83</td>\n",
       "      <td>330.75</td>\n",
       "      <td>326.89</td>\n",
       "      <td>657.21</td>\n",
       "      <td>6,590,300</td>\n",
       "    </tr>\n",
       "    <tr>\n",
       "      <th>2012-01-06</th>\n",
       "      <td>328.34</td>\n",
       "      <td>328.77</td>\n",
       "      <td>323.68</td>\n",
       "      <td>648.24</td>\n",
       "      <td>5,405,900</td>\n",
       "    </tr>\n",
       "    <tr>\n",
       "      <th>2012-01-09</th>\n",
       "      <td>322.04</td>\n",
       "      <td>322.29</td>\n",
       "      <td>309.46</td>\n",
       "      <td>620.76</td>\n",
       "      <td>11,688,800</td>\n",
       "    </tr>\n",
       "    <tr>\n",
       "      <th>...</th>\n",
       "      <td>...</td>\n",
       "      <td>...</td>\n",
       "      <td>...</td>\n",
       "      <td>...</td>\n",
       "      <td>...</td>\n",
       "    </tr>\n",
       "    <tr>\n",
       "      <th>2016-12-23</th>\n",
       "      <td>790.90</td>\n",
       "      <td>792.74</td>\n",
       "      <td>787.28</td>\n",
       "      <td>789.91</td>\n",
       "      <td>623,400</td>\n",
       "    </tr>\n",
       "    <tr>\n",
       "      <th>2016-12-27</th>\n",
       "      <td>790.68</td>\n",
       "      <td>797.86</td>\n",
       "      <td>787.66</td>\n",
       "      <td>791.55</td>\n",
       "      <td>789,100</td>\n",
       "    </tr>\n",
       "    <tr>\n",
       "      <th>2016-12-28</th>\n",
       "      <td>793.70</td>\n",
       "      <td>794.23</td>\n",
       "      <td>783.20</td>\n",
       "      <td>785.05</td>\n",
       "      <td>1,153,800</td>\n",
       "    </tr>\n",
       "    <tr>\n",
       "      <th>2016-12-29</th>\n",
       "      <td>783.33</td>\n",
       "      <td>785.93</td>\n",
       "      <td>778.92</td>\n",
       "      <td>782.79</td>\n",
       "      <td>744,300</td>\n",
       "    </tr>\n",
       "    <tr>\n",
       "      <th>2016-12-30</th>\n",
       "      <td>782.75</td>\n",
       "      <td>782.78</td>\n",
       "      <td>770.41</td>\n",
       "      <td>771.82</td>\n",
       "      <td>1,770,000</td>\n",
       "    </tr>\n",
       "  </tbody>\n",
       "</table>\n",
       "<p>1258 rows × 5 columns</p>\n",
       "</div>"
      ],
      "text/plain": [
       "              Open    High     Low   Close      Volume\n",
       "Date                                                  \n",
       "2012-01-03  325.25  332.83  324.97  663.59   7,380,500\n",
       "2012-01-04  331.27  333.87  329.08  666.45   5,749,400\n",
       "2012-01-05  329.83  330.75  326.89  657.21   6,590,300\n",
       "2012-01-06  328.34  328.77  323.68  648.24   5,405,900\n",
       "2012-01-09  322.04  322.29  309.46  620.76  11,688,800\n",
       "...            ...     ...     ...     ...         ...\n",
       "2016-12-23  790.90  792.74  787.28  789.91     623,400\n",
       "2016-12-27  790.68  797.86  787.66  791.55     789,100\n",
       "2016-12-28  793.70  794.23  783.20  785.05   1,153,800\n",
       "2016-12-29  783.33  785.93  778.92  782.79     744,300\n",
       "2016-12-30  782.75  782.78  770.41  771.82   1,770,000\n",
       "\n",
       "[1258 rows x 5 columns]"
      ]
     },
     "execution_count": 61,
     "metadata": {},
     "output_type": "execute_result"
    }
   ],
   "source": [
    "df_train = pd.read_csv(\"./Google_Stock_Price_Train.csv\",index_col='Date', parse_dates=['Date'])\n",
    "df_train"
   ]
  },
  {
   "cell_type": "code",
   "execution_count": 62,
   "id": "c497fcc1",
   "metadata": {},
   "outputs": [
    {
     "data": {
      "text/html": [
       "<div>\n",
       "<style scoped>\n",
       "    .dataframe tbody tr th:only-of-type {\n",
       "        vertical-align: middle;\n",
       "    }\n",
       "\n",
       "    .dataframe tbody tr th {\n",
       "        vertical-align: top;\n",
       "    }\n",
       "\n",
       "    .dataframe thead th {\n",
       "        text-align: right;\n",
       "    }\n",
       "</style>\n",
       "<table border=\"1\" class=\"dataframe\">\n",
       "  <thead>\n",
       "    <tr style=\"text-align: right;\">\n",
       "      <th></th>\n",
       "      <th>Open</th>\n",
       "      <th>High</th>\n",
       "      <th>Low</th>\n",
       "      <th>Close</th>\n",
       "      <th>Volume</th>\n",
       "    </tr>\n",
       "    <tr>\n",
       "      <th>Date</th>\n",
       "      <th></th>\n",
       "      <th></th>\n",
       "      <th></th>\n",
       "      <th></th>\n",
       "      <th></th>\n",
       "    </tr>\n",
       "  </thead>\n",
       "  <tbody>\n",
       "    <tr>\n",
       "      <th>2017-01-03</th>\n",
       "      <td>778.81</td>\n",
       "      <td>789.63</td>\n",
       "      <td>775.80</td>\n",
       "      <td>786.14</td>\n",
       "      <td>1,657,300</td>\n",
       "    </tr>\n",
       "    <tr>\n",
       "      <th>2017-01-04</th>\n",
       "      <td>788.36</td>\n",
       "      <td>791.34</td>\n",
       "      <td>783.16</td>\n",
       "      <td>786.90</td>\n",
       "      <td>1,073,000</td>\n",
       "    </tr>\n",
       "    <tr>\n",
       "      <th>2017-01-05</th>\n",
       "      <td>786.08</td>\n",
       "      <td>794.48</td>\n",
       "      <td>785.02</td>\n",
       "      <td>794.02</td>\n",
       "      <td>1,335,200</td>\n",
       "    </tr>\n",
       "    <tr>\n",
       "      <th>2017-01-06</th>\n",
       "      <td>795.26</td>\n",
       "      <td>807.90</td>\n",
       "      <td>792.20</td>\n",
       "      <td>806.15</td>\n",
       "      <td>1,640,200</td>\n",
       "    </tr>\n",
       "    <tr>\n",
       "      <th>2017-01-09</th>\n",
       "      <td>806.40</td>\n",
       "      <td>809.97</td>\n",
       "      <td>802.83</td>\n",
       "      <td>806.65</td>\n",
       "      <td>1,272,400</td>\n",
       "    </tr>\n",
       "    <tr>\n",
       "      <th>2017-01-10</th>\n",
       "      <td>807.86</td>\n",
       "      <td>809.13</td>\n",
       "      <td>803.51</td>\n",
       "      <td>804.79</td>\n",
       "      <td>1,176,800</td>\n",
       "    </tr>\n",
       "    <tr>\n",
       "      <th>2017-01-11</th>\n",
       "      <td>805.00</td>\n",
       "      <td>808.15</td>\n",
       "      <td>801.37</td>\n",
       "      <td>807.91</td>\n",
       "      <td>1,065,900</td>\n",
       "    </tr>\n",
       "    <tr>\n",
       "      <th>2017-01-12</th>\n",
       "      <td>807.14</td>\n",
       "      <td>807.39</td>\n",
       "      <td>799.17</td>\n",
       "      <td>806.36</td>\n",
       "      <td>1,353,100</td>\n",
       "    </tr>\n",
       "    <tr>\n",
       "      <th>2017-01-13</th>\n",
       "      <td>807.48</td>\n",
       "      <td>811.22</td>\n",
       "      <td>806.69</td>\n",
       "      <td>807.88</td>\n",
       "      <td>1,099,200</td>\n",
       "    </tr>\n",
       "    <tr>\n",
       "      <th>2017-01-17</th>\n",
       "      <td>807.08</td>\n",
       "      <td>807.14</td>\n",
       "      <td>800.37</td>\n",
       "      <td>804.61</td>\n",
       "      <td>1,362,100</td>\n",
       "    </tr>\n",
       "    <tr>\n",
       "      <th>2017-01-18</th>\n",
       "      <td>805.81</td>\n",
       "      <td>806.21</td>\n",
       "      <td>800.99</td>\n",
       "      <td>806.07</td>\n",
       "      <td>1,294,400</td>\n",
       "    </tr>\n",
       "    <tr>\n",
       "      <th>2017-01-19</th>\n",
       "      <td>805.12</td>\n",
       "      <td>809.48</td>\n",
       "      <td>801.80</td>\n",
       "      <td>802.17</td>\n",
       "      <td>919,300</td>\n",
       "    </tr>\n",
       "    <tr>\n",
       "      <th>2017-01-20</th>\n",
       "      <td>806.91</td>\n",
       "      <td>806.91</td>\n",
       "      <td>801.69</td>\n",
       "      <td>805.02</td>\n",
       "      <td>1,670,000</td>\n",
       "    </tr>\n",
       "    <tr>\n",
       "      <th>2017-01-23</th>\n",
       "      <td>807.25</td>\n",
       "      <td>820.87</td>\n",
       "      <td>803.74</td>\n",
       "      <td>819.31</td>\n",
       "      <td>1,963,600</td>\n",
       "    </tr>\n",
       "    <tr>\n",
       "      <th>2017-01-24</th>\n",
       "      <td>822.30</td>\n",
       "      <td>825.90</td>\n",
       "      <td>817.82</td>\n",
       "      <td>823.87</td>\n",
       "      <td>1,474,000</td>\n",
       "    </tr>\n",
       "    <tr>\n",
       "      <th>2017-01-25</th>\n",
       "      <td>829.62</td>\n",
       "      <td>835.77</td>\n",
       "      <td>825.06</td>\n",
       "      <td>835.67</td>\n",
       "      <td>1,494,500</td>\n",
       "    </tr>\n",
       "    <tr>\n",
       "      <th>2017-01-26</th>\n",
       "      <td>837.81</td>\n",
       "      <td>838.00</td>\n",
       "      <td>827.01</td>\n",
       "      <td>832.15</td>\n",
       "      <td>2,973,900</td>\n",
       "    </tr>\n",
       "    <tr>\n",
       "      <th>2017-01-27</th>\n",
       "      <td>834.71</td>\n",
       "      <td>841.95</td>\n",
       "      <td>820.44</td>\n",
       "      <td>823.31</td>\n",
       "      <td>2,965,800</td>\n",
       "    </tr>\n",
       "    <tr>\n",
       "      <th>2017-01-30</th>\n",
       "      <td>814.66</td>\n",
       "      <td>815.84</td>\n",
       "      <td>799.80</td>\n",
       "      <td>802.32</td>\n",
       "      <td>3,246,600</td>\n",
       "    </tr>\n",
       "    <tr>\n",
       "      <th>2017-01-31</th>\n",
       "      <td>796.86</td>\n",
       "      <td>801.25</td>\n",
       "      <td>790.52</td>\n",
       "      <td>796.79</td>\n",
       "      <td>2,160,600</td>\n",
       "    </tr>\n",
       "  </tbody>\n",
       "</table>\n",
       "</div>"
      ],
      "text/plain": [
       "              Open    High     Low   Close     Volume\n",
       "Date                                                 \n",
       "2017-01-03  778.81  789.63  775.80  786.14  1,657,300\n",
       "2017-01-04  788.36  791.34  783.16  786.90  1,073,000\n",
       "2017-01-05  786.08  794.48  785.02  794.02  1,335,200\n",
       "2017-01-06  795.26  807.90  792.20  806.15  1,640,200\n",
       "2017-01-09  806.40  809.97  802.83  806.65  1,272,400\n",
       "2017-01-10  807.86  809.13  803.51  804.79  1,176,800\n",
       "2017-01-11  805.00  808.15  801.37  807.91  1,065,900\n",
       "2017-01-12  807.14  807.39  799.17  806.36  1,353,100\n",
       "2017-01-13  807.48  811.22  806.69  807.88  1,099,200\n",
       "2017-01-17  807.08  807.14  800.37  804.61  1,362,100\n",
       "2017-01-18  805.81  806.21  800.99  806.07  1,294,400\n",
       "2017-01-19  805.12  809.48  801.80  802.17    919,300\n",
       "2017-01-20  806.91  806.91  801.69  805.02  1,670,000\n",
       "2017-01-23  807.25  820.87  803.74  819.31  1,963,600\n",
       "2017-01-24  822.30  825.90  817.82  823.87  1,474,000\n",
       "2017-01-25  829.62  835.77  825.06  835.67  1,494,500\n",
       "2017-01-26  837.81  838.00  827.01  832.15  2,973,900\n",
       "2017-01-27  834.71  841.95  820.44  823.31  2,965,800\n",
       "2017-01-30  814.66  815.84  799.80  802.32  3,246,600\n",
       "2017-01-31  796.86  801.25  790.52  796.79  2,160,600"
      ]
     },
     "execution_count": 62,
     "metadata": {},
     "output_type": "execute_result"
    }
   ],
   "source": [
    "df_test = pd.read_csv(\"./Google_Stock_Price_Test.csv\",index_col='Date', parse_dates=['Date'])\n",
    "df_test"
   ]
  },
  {
   "cell_type": "markdown",
   "id": "f6c7441d",
   "metadata": {},
   "source": [
    "We will try to predict the Closing value in this project, and the same process can be applied to other columns."
   ]
  },
  {
   "cell_type": "markdown",
   "id": "7fc6087c",
   "metadata": {},
   "source": [
    "# Preprocessing the data and  Visualize the Data"
   ]
  },
  {
   "cell_type": "markdown",
   "id": "37c0c579",
   "metadata": {},
   "source": [
    "Since the csv file store the number using format '0,000.00' therefore if the number larger than or equal to 1000, the column would be identified as string, thus we need to preprocessing them."
   ]
  },
  {
   "cell_type": "code",
   "execution_count": 72,
   "id": "26c213b2",
   "metadata": {},
   "outputs": [],
   "source": [
    "closing_tr = df_train['Close'].apply(lambda x : x.replace(',', '')).astype('float')\n",
    "closing_ts = df_test['Close']"
   ]
  },
  {
   "cell_type": "code",
   "execution_count": 73,
   "id": "b1e17af0",
   "metadata": {},
   "outputs": [
    {
     "data": {
      "text/plain": [
       "Date\n",
       "2012-01-03    663.59\n",
       "2012-01-04    666.45\n",
       "2012-01-05    657.21\n",
       "2012-01-06    648.24\n",
       "2012-01-09    620.76\n",
       "Name: Close, dtype: float64"
      ]
     },
     "execution_count": 73,
     "metadata": {},
     "output_type": "execute_result"
    }
   ],
   "source": [
    "closing_tr.head()"
   ]
  },
  {
   "cell_type": "code",
   "execution_count": 74,
   "id": "1a43a451",
   "metadata": {},
   "outputs": [
    {
     "data": {
      "text/plain": [
       "Date\n",
       "2017-01-03    786.14\n",
       "2017-01-04    786.90\n",
       "2017-01-05    794.02\n",
       "2017-01-06    806.15\n",
       "2017-01-09    806.65\n",
       "Name: Close, dtype: float64"
      ]
     },
     "execution_count": 74,
     "metadata": {},
     "output_type": "execute_result"
    }
   ],
   "source": [
    "closing_ts.head()"
   ]
  },
  {
   "cell_type": "code",
   "execution_count": 75,
   "id": "4ec685ed",
   "metadata": {},
   "outputs": [
    {
     "data": {
      "image/png": "[encoded data removed]",
      "text/plain": [
       "<Figure size 1152x288 with 1 Axes>"
      ]
     },
     "metadata": {
      "needs_background": "light"
     },
     "output_type": "display_data"
    }
   ],
   "source": [
    "closing_tr.plot(figsize=(16,4),label=\"training set\")\n",
    "closing_ts.plot(figsize=(16,4),label=\"test set\")\n",
    "plt.legend()\n",
    "plt.title(\"Google stock closing price\")\n",
    "plt.show()"
   ]
  },
  {
   "cell_type": "markdown",
   "id": "cbb57732",
   "metadata": {},
   "source": [
    "## scaling the closing value and get the input\n",
    "https://machinelearningmastery.com/how-to-improve-neural-network-stability-and-modeling-performance-with-data-scaling/ \n",
    "\n",
    "\n",
    "scaling the input and output variable can help to improve the stability and performance of the neural network.\n",
    "unscaled input variables can cause slow and unstable leanring process.\n",
    "unscaled output variables can cause the learning process to fail.\n",
    "\n",
    "we use MinMaxScaler to standarlized all the columns to (0,1) according to the minimum and maximum values in the column.\n",
    "\n",
    "https://scikit-learn.org/stable/modules/generated/sklearn.preprocessing.MinMaxScaler.html"
   ]
  },
  {
   "cell_type": "code",
   "execution_count": 264,
   "id": "c6d1571e",
   "metadata": {},
   "outputs": [],
   "source": [
    "sc = MinMaxScaler(feature_range=(0,1))"
   ]
  },
  {
   "cell_type": "code",
   "execution_count": 265,
   "id": "c96648a4",
   "metadata": {},
   "outputs": [],
   "source": [
    "closing_total = pd.concat((closing_tr,closing_ts),axis=0)"
   ]
  },
  {
   "cell_type": "code",
   "execution_count": 266,
   "id": "b53c0aef",
   "metadata": {
    "scrolled": false
   },
   "outputs": [
    {
     "data": {
      "text/plain": [
       "Date\n",
       "2012-01-03    663.59\n",
       "2012-01-04    666.45\n",
       "2012-01-05    657.21\n",
       "2012-01-06    648.24\n",
       "2012-01-09    620.76\n",
       "               ...  \n",
       "2017-01-25    835.67\n",
       "2017-01-26    832.15\n",
       "2017-01-27    823.31\n",
       "2017-01-30    802.32\n",
       "2017-01-31    796.79\n",
       "Name: Close, Length: 1278, dtype: float64"
      ]
     },
     "execution_count": 266,
     "metadata": {},
     "output_type": "execute_result"
    }
   ],
   "source": [
    "closing_total"
   ]
  },
  {
   "cell_type": "code",
   "execution_count": 299,
   "id": "f40473c8",
   "metadata": {},
   "outputs": [],
   "source": [
    "closing_total_scaled = sc.fit_transform(np.array(closing_total).reshape(-1,1))"
   ]
  },
  {
   "cell_type": "code",
   "execution_count": 300,
   "id": "d580db7f",
   "metadata": {},
   "outputs": [
    {
     "data": {
      "text/plain": [
       "array([[0.23757287],\n",
       "       [0.24151427],\n",
       "       [0.22878051],\n",
       "       ...,\n",
       "       [0.45768505],\n",
       "       [0.42875846],\n",
       "       [0.42113749]])"
      ]
     },
     "execution_count": 300,
     "metadata": {},
     "output_type": "execute_result"
    }
   ],
   "source": [
    "closing_total_scaled"
   ]
  },
  {
   "cell_type": "code",
   "execution_count": 301,
   "id": "ee91bfad",
   "metadata": {},
   "outputs": [
    {
     "data": {
      "text/plain": [
       "1258"
      ]
     },
     "execution_count": 301,
     "metadata": {},
     "output_type": "execute_result"
    }
   ],
   "source": [
    "train_len = len(closing_tr)\n",
    "train_len"
   ]
  },
  {
   "cell_type": "code",
   "execution_count": 303,
   "id": "4da983d4",
   "metadata": {},
   "outputs": [],
   "source": [
    "def generate_dataset(df, timesteps,train_len):\n",
    "    x_train, y_train, x_test, y_test = [], [], [], []\n",
    "    for i in range(train_len-timesteps):\n",
    "        x_train.append(df[i:i+timesteps,0])\n",
    "        y_train.append(df[i+timesteps,0])\n",
    "    for i in range(train_len-timesteps,len(df)-timesteps):\n",
    "        x_test.append(df[i:i+timesteps,0])\n",
    "        y_test.append(df[i+timesteps,0])\n",
    "    return np.array(x_train), np.array(y_train), np.array(x_test), np.array(y_test)"
   ]
  },
  {
   "cell_type": "code",
   "execution_count": 304,
   "id": "fd10b5a8",
   "metadata": {},
   "outputs": [],
   "source": [
    "x_train, y_train, x_test, y_test = generate_dataset(closing_total_scaled,30, train_len)"
   ]
  },
  {
   "cell_type": "code",
   "execution_count": 305,
   "id": "cc574845",
   "metadata": {},
   "outputs": [
    {
     "data": {
      "text/plain": [
       "array([0.23757287, 0.24151427, 0.22878051, 0.21641884, 0.1785483 ,\n",
       "       0.17947163, 0.18335791, 0.18841558, 0.18202114, 0.18695478,\n",
       "       0.19290823, 0.2020589 , 0.12842633, 0.12777862, 0.12146686,\n",
       "       0.1057426 , 0.10382702, 0.12015766, 0.11701556, 0.12033681,\n",
       "       0.12132905, 0.12721359, 0.14263468, 0.16016427, 0.15698083,\n",
       "       0.16121164, 0.1634304 , 0.15579565, 0.16443642, 0.16108761])"
      ]
     },
     "execution_count": 305,
     "metadata": {},
     "output_type": "execute_result"
    }
   ],
   "source": [
    "x_train[0]"
   ]
  },
  {
   "cell_type": "code",
   "execution_count": 306,
   "id": "4ef0c181",
   "metadata": {
    "scrolled": false
   },
   "outputs": [
    {
     "data": {
      "text/plain": [
       "0.15531331394787973"
      ]
     },
     "execution_count": 306,
     "metadata": {},
     "output_type": "execute_result"
    }
   ],
   "source": [
    "y_train[0]"
   ]
  },
  {
   "cell_type": "markdown",
   "id": "6c084453",
   "metadata": {},
   "source": [
    "## to make sure that we get the correct training and test dataset"
   ]
  },
  {
   "cell_type": "code",
   "execution_count": 274,
   "id": "6e4b53d3",
   "metadata": {},
   "outputs": [
    {
     "data": {
      "text/plain": [
       "20"
      ]
     },
     "execution_count": 274,
     "metadata": {},
     "output_type": "execute_result"
    }
   ],
   "source": [
    "len(closing_ts)"
   ]
  },
  {
   "cell_type": "code",
   "execution_count": 275,
   "id": "122bfc3a",
   "metadata": {},
   "outputs": [
    {
     "data": {
      "text/plain": [
       "20"
      ]
     },
     "execution_count": 275,
     "metadata": {},
     "output_type": "execute_result"
    }
   ],
   "source": [
    "len(x_test)"
   ]
  },
  {
   "cell_type": "code",
   "execution_count": 307,
   "id": "7a56e8b7",
   "metadata": {},
   "outputs": [
    {
     "data": {
      "text/plain": [
       "array([0.23757287, 0.24151427, 0.22878051, 0.21641884, 0.1785483 ,\n",
       "       0.17947163, 0.18335791, 0.18841558, 0.18202114, 0.18695478,\n",
       "       0.19290823, 0.2020589 , 0.12842633, 0.12777862, 0.12146686,\n",
       "       0.1057426 , 0.10382702, 0.12015766, 0.11701556, 0.12033681,\n",
       "       0.12132905, 0.12721359, 0.14263468, 0.16016427, 0.15698083,\n",
       "       0.16121164, 0.1634304 , 0.15579565, 0.16443642, 0.16108761])"
      ]
     },
     "execution_count": 307,
     "metadata": {},
     "output_type": "execute_result"
    }
   ],
   "source": [
    "x_train[0]"
   ]
  },
  {
   "cell_type": "code",
   "execution_count": 308,
   "id": "68de4a4a",
   "metadata": {},
   "outputs": [
    {
     "data": {
      "text/plain": [
       "array([0.38591293, 0.3711809 , 0.38311536, 0.38183372, 0.37180106,\n",
       "       0.37275195, 0.38179237, 0.38537547, 0.36773562, 0.35378912,\n",
       "       0.35734465, 0.37390957, 0.3692102 , 0.38585781, 0.39306534,\n",
       "       0.41080165, 0.41077409, 0.4201866 , 0.42152337, 0.42259829,\n",
       "       0.4128826 , 0.41756818, 0.42062759, 0.4180643 , 0.41351653,\n",
       "       0.41165608, 0.41391618, 0.40495845, 0.40184391, 0.38672602])"
      ]
     },
     "execution_count": 308,
     "metadata": {},
     "output_type": "execute_result"
    }
   ],
   "source": [
    "x_test[0]"
   ]
  },
  {
   "cell_type": "code",
   "execution_count": 309,
   "id": "eeae80a0",
   "metadata": {},
   "outputs": [
    {
     "data": {
      "text/plain": [
       "0.4211374943152846"
      ]
     },
     "execution_count": 309,
     "metadata": {},
     "output_type": "execute_result"
    }
   ],
   "source": [
    "y_test[-1]"
   ]
  },
  {
   "cell_type": "code",
   "execution_count": 310,
   "id": "654d5d18",
   "metadata": {},
   "outputs": [
    {
     "data": {
      "text/plain": [
       "array([0.42113749])"
      ]
     },
     "execution_count": 310,
     "metadata": {},
     "output_type": "execute_result"
    }
   ],
   "source": [
    "closing_total_scaled[-1]"
   ]
  },
  {
   "cell_type": "code",
   "execution_count": 311,
   "id": "9a0ec138",
   "metadata": {},
   "outputs": [
    {
     "data": {
      "text/plain": [
       "0.3867260173917837"
      ]
     },
     "execution_count": 311,
     "metadata": {},
     "output_type": "execute_result"
    }
   ],
   "source": [
    "y_train[-1]"
   ]
  },
  {
   "cell_type": "markdown",
   "id": "9a140eac",
   "metadata": {},
   "source": [
    "## reshape the data so that can put into model as input"
   ]
  },
  {
   "cell_type": "code",
   "execution_count": 312,
   "id": "29c22b9b",
   "metadata": {},
   "outputs": [
    {
     "data": {
      "text/plain": [
       "(1228, 30)"
      ]
     },
     "execution_count": 312,
     "metadata": {},
     "output_type": "execute_result"
    }
   ],
   "source": [
    "x_train.shape"
   ]
  },
  {
   "cell_type": "code",
   "execution_count": 313,
   "id": "722c9378",
   "metadata": {},
   "outputs": [],
   "source": [
    "x_train = x_train.reshape(x_train.shape[0],x_train.shape[1],1)"
   ]
  },
  {
   "cell_type": "code",
   "execution_count": 314,
   "id": "77e34a7d",
   "metadata": {},
   "outputs": [
    {
     "data": {
      "text/plain": [
       "(1228, 30, 1)"
      ]
     },
     "execution_count": 314,
     "metadata": {},
     "output_type": "execute_result"
    }
   ],
   "source": [
    "x_train.shape"
   ]
  },
  {
   "cell_type": "code",
   "execution_count": 315,
   "id": "15b9cecd",
   "metadata": {},
   "outputs": [],
   "source": [
    "x_test = x_test.reshape(x_test.shape[0],x_test.shape[1],1)"
   ]
  },
  {
   "cell_type": "code",
   "execution_count": 324,
   "id": "1c536f9f",
   "metadata": {},
   "outputs": [
    {
     "data": {
      "text/plain": [
       "(20, 30, 1)"
      ]
     },
     "execution_count": 324,
     "metadata": {},
     "output_type": "execute_result"
    }
   ],
   "source": [
    "x_test.shape"
   ]
  },
  {
   "cell_type": "markdown",
   "id": "0c90367d",
   "metadata": {},
   "source": [
    "# Build the LSTM model"
   ]
  },
  {
   "cell_type": "markdown",
   "id": "e55c8294",
   "metadata": {},
   "source": [
    "LSTM architecture explanation on Youtube <br>\n",
    "https://www.youtube.com/watch?v=vTouAvxlphc\n",
    "\n",
    "LSTM keras implementation with explanation on Youtube <br>\n",
    "https://www.kaggle.com/pathanamjadkhan/lstm-tensor-kera-s-google-stock\n",
    "\n",
    "kaggle code examples and tutorial <br>\n",
    "https://www.kaggle.com/thebrownviking20/intro-to-recurrent-neural-networks-lstm-gru <br>\n",
    "https://www.kaggle.com/pathanamjadkhan/lstm-tensor-kera-s-google-stock\n",
    "\n",
    "return_state and return_sequences <br>\n",
    "https://machinelearningmastery.com/return-sequences-and-return-states-for-lstms-in-keras/"
   ]
  },
  {
   "cell_type": "code",
   "execution_count": 317,
   "id": "67c5d25a",
   "metadata": {},
   "outputs": [],
   "source": [
    "def build_LSTM():\n",
    "    model = Sequential()\n",
    "    \n",
    "    model.add(LSTM(units=50, return_sequences=True, input_shape=(x_train.shape[1],1)))\n",
    "    model.add(LSTM(units=50, return_sequences=True))\n",
    "    model.add(LSTM(units=50, return_sequences=True))\n",
    "    model.add(LSTM(units=50))\n",
    "    \n",
    "    model.add(Dense(units=1))\n",
    "\n",
    "    model.compile(optimizer='rmsprop',loss='mean_squared_error')\n",
    "    \n",
    "    return model"
   ]
  },
  {
   "cell_type": "code",
   "execution_count": 318,
   "id": "54d09522",
   "metadata": {},
   "outputs": [],
   "source": [
    "baseline_LSTM = build_LSTM()"
   ]
  },
  {
   "cell_type": "code",
   "execution_count": 319,
   "id": "96b2244f",
   "metadata": {
    "scrolled": true
   },
   "outputs": [
    {
     "name": "stdout",
     "output_type": "stream",
     "text": [
      "Epoch 1/50\n",
      "39/39 [==============================] - 6s 27ms/step - loss: 0.0291\n",
      "Epoch 2/50\n",
      "39/39 [==============================] - 1s 26ms/step - loss: 0.0132\n",
      "Epoch 3/50\n",
      "39/39 [==============================] - 1s 25ms/step - loss: 0.0104\n",
      "Epoch 4/50\n",
      "39/39 [==============================] - 1s 25ms/step - loss: 0.0080\n",
      "Epoch 5/50\n",
      "39/39 [==============================] - 1s 25ms/step - loss: 0.0066\n",
      "Epoch 6/50\n",
      "39/39 [==============================] - 1s 26ms/step - loss: 0.0056\n",
      "Epoch 7/50\n",
      "39/39 [==============================] - 1s 27ms/step - loss: 0.0052\n",
      "Epoch 8/50\n",
      "39/39 [==============================] - 1s 26ms/step - loss: 0.0044\n",
      "Epoch 9/50\n",
      "39/39 [==============================] - 1s 26ms/step - loss: 0.0042\n",
      "Epoch 10/50\n",
      "39/39 [==============================] - 1s 25ms/step - loss: 0.0035\n",
      "Epoch 11/50\n",
      "39/39 [==============================] - 1s 27ms/step - loss: 0.0030\n",
      "Epoch 12/50\n",
      "39/39 [==============================] - 1s 26ms/step - loss: 0.0031\n",
      "Epoch 13/50\n",
      "39/39 [==============================] - 1s 27ms/step - loss: 0.0027\n",
      "Epoch 14/50\n",
      "39/39 [==============================] - 1s 27ms/step - loss: 0.0025\n",
      "Epoch 15/50\n",
      "39/39 [==============================] - 1s 26ms/step - loss: 0.0025\n",
      "Epoch 16/50\n",
      "39/39 [==============================] - 1s 27ms/step - loss: 0.0024\n",
      "Epoch 17/50\n",
      "39/39 [==============================] - 1s 27ms/step - loss: 0.0021\n",
      "Epoch 18/50\n",
      "39/39 [==============================] - 1s 27ms/step - loss: 0.0020\n",
      "Epoch 19/50\n",
      "39/39 [==============================] - 1s 27ms/step - loss: 0.0019\n",
      "Epoch 20/50\n",
      "39/39 [==============================] - 1s 27ms/step - loss: 0.0018\n",
      "Epoch 21/50\n",
      "39/39 [==============================] - 1s 27ms/step - loss: 0.0019\n",
      "Epoch 22/50\n",
      "39/39 [==============================] - 1s 26ms/step - loss: 0.0017\n",
      "Epoch 23/50\n",
      "39/39 [==============================] - 1s 27ms/step - loss: 0.0017\n",
      "Epoch 24/50\n",
      "39/39 [==============================] - 1s 27ms/step - loss: 0.0019\n",
      "Epoch 25/50\n",
      "39/39 [==============================] - 1s 26ms/step - loss: 0.0014\n",
      "Epoch 26/50\n",
      "39/39 [==============================] - 1s 27ms/step - loss: 0.0015\n",
      "Epoch 27/50\n",
      "39/39 [==============================] - 1s 27ms/step - loss: 0.0015\n",
      "Epoch 28/50\n",
      "39/39 [==============================] - 1s 27ms/step - loss: 0.0012\n",
      "Epoch 29/50\n",
      "39/39 [==============================] - 1s 27ms/step - loss: 0.0014\n",
      "Epoch 30/50\n",
      "39/39 [==============================] - 1s 27ms/step - loss: 0.0013\n",
      "Epoch 31/50\n",
      "39/39 [==============================] - 1s 27ms/step - loss: 0.0013\n",
      "Epoch 32/50\n",
      "39/39 [==============================] - 1s 27ms/step - loss: 0.0014\n",
      "Epoch 33/50\n",
      "39/39 [==============================] - 1s 27ms/step - loss: 0.0013\n",
      "Epoch 34/50\n",
      "39/39 [==============================] - 1s 27ms/step - loss: 0.0012\n",
      "Epoch 35/50\n",
      "39/39 [==============================] - 1s 27ms/step - loss: 0.0013\n",
      "Epoch 36/50\n",
      "39/39 [==============================] - 1s 27ms/step - loss: 0.0013\n",
      "Epoch 37/50\n",
      "39/39 [==============================] - 1s 27ms/step - loss: 0.0012\n",
      "Epoch 38/50\n",
      "39/39 [==============================] - 1s 27ms/step - loss: 0.0011\n",
      "Epoch 39/50\n",
      "39/39 [==============================] - 1s 30ms/step - loss: 0.0012\n",
      "Epoch 40/50\n",
      "39/39 [==============================] - 1s 28ms/step - loss: 0.0012\n",
      "Epoch 41/50\n",
      "39/39 [==============================] - 1s 27ms/step - loss: 0.0013\n",
      "Epoch 42/50\n",
      "39/39 [==============================] - 1s 28ms/step - loss: 0.0011\n",
      "Epoch 43/50\n",
      "39/39 [==============================] - 1s 27ms/step - loss: 0.0011\n",
      "Epoch 44/50\n",
      "39/39 [==============================] - 1s 27ms/step - loss: 0.0011\n",
      "Epoch 45/50\n",
      "39/39 [==============================] - 1s 27ms/step - loss: 0.0011\n",
      "Epoch 46/50\n",
      "39/39 [==============================] - 1s 27ms/step - loss: 0.0011\n",
      "Epoch 47/50\n",
      "39/39 [==============================] - 1s 27ms/step - loss: 0.0011\n",
      "Epoch 48/50\n",
      "39/39 [==============================] - 1s 27ms/step - loss: 0.0011\n",
      "Epoch 49/50\n",
      "39/39 [==============================] - 1s 28ms/step - loss: 9.0760e-04\n",
      "Epoch 50/50\n",
      "39/39 [==============================] - 1s 29ms/step - loss: 0.0011\n"
     ]
    },
    {
     "data": {
      "text/plain": [
       "<keras.callbacks.History at 0x7f79976fb2b0>"
      ]
     },
     "execution_count": 319,
     "metadata": {},
     "output_type": "execute_result"
    }
   ],
   "source": [
    "baseline_LSTM.fit(x_train,y_train,epochs=50,batch_size=32)"
   ]
  },
  {
   "cell_type": "code",
   "execution_count": 320,
   "id": "30fae55d",
   "metadata": {},
   "outputs": [],
   "source": [
    "y_predicted = baseline_LSTM.predict(x_test)"
   ]
  },
  {
   "cell_type": "code",
   "execution_count": 326,
   "id": "2dd89d13",
   "metadata": {
    "scrolled": true
   },
   "outputs": [
    {
     "data": {
      "text/plain": [
       "array([0.40646059, 0.40750796, 0.41732012, 0.43403663, 0.43472569,\n",
       "       0.4321624 , 0.43646211, 0.43432603, 0.43642077, 0.43191434,\n",
       "       0.43392638, 0.42855174, 0.43247936, 0.45217259, 0.45845679,\n",
       "       0.47471852, 0.46986756, 0.45768505, 0.42875846, 0.42113749])"
      ]
     },
     "execution_count": 326,
     "metadata": {},
     "output_type": "execute_result"
    }
   ],
   "source": [
    "y_test"
   ]
  },
  {
   "cell_type": "code",
   "execution_count": 327,
   "id": "441b49cf",
   "metadata": {},
   "outputs": [
    {
     "data": {
      "text/plain": [
       "array([[0.42382884],\n",
       "       [0.43996778],\n",
       "       [0.44404188],\n",
       "       [0.4541375 ],\n",
       "       [0.4718344 ],\n",
       "       [0.47524184],\n",
       "       [0.47304165],\n",
       "       [0.47665018],\n",
       "       [0.47492775],\n",
       "       [0.4766374 ],\n",
       "       [0.47236672],\n",
       "       [0.47368732],\n",
       "       [0.4685927 ],\n",
       "       [0.47172615],\n",
       "       [0.49155167],\n",
       "       [0.500609  ],\n",
       "       [0.51811445],\n",
       "       [0.5151288 ],\n",
       "       [0.5023452 ],\n",
       "       [0.47181395]], dtype=float32)"
      ]
     },
     "execution_count": 327,
     "metadata": {},
     "output_type": "execute_result"
    }
   ],
   "source": [
    "y_predicted"
   ]
  },
  {
   "cell_type": "code",
   "execution_count": 325,
   "id": "76a3a400",
   "metadata": {},
   "outputs": [
    {
     "data": {
      "image/png": "[encoded data removed]",
      "text/plain": [
       "<Figure size 432x288 with 1 Axes>"
      ]
     },
     "metadata": {
      "needs_background": "light"
     },
     "output_type": "display_data"
    }
   ],
   "source": [
    "plt.plot(sc.inverse_transform(y_test.reshape(-1,1)),label=\"test\")\n",
    "plt.plot(sc.inverse_transform(y_predicted), label = \"predicted\")\n",
    "plt.legend()\n",
    "plt.title(\"Google stock closing price\")\n",
    "plt.show()"
   ]
  },
  {
   "cell_type": "markdown",
   "id": "2d479079",
   "metadata": {},
   "source": [
    "The graph shows that we can correctly predict the trend of the stock price."
   ]
  },
  {
   "cell_type": "code",
   "execution_count": null,
   "id": "467018bf",
   "metadata": {},
   "outputs": [],
   "source": []
  }
 ],
 "metadata": {
  "kernelspec": {
   "display_name": "Python 3",
   "language": "python",
   "name": "python3"
  },
  "language_info": {
   "codemirror_mode": {
    "name": "ipython",
    "version": 3
   },
   "file_extension": ".py",
   "mimetype": "text/x-python",
   "name": "python",
   "nbconvert_exporter": "python",
   "pygments_lexer": "ipython3",
   "version": "3.9.5"
  }
 },
 "nbformat": 4,
 "nbformat_minor": 5
}
